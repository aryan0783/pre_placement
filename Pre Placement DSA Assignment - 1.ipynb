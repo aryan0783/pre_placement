{
 "cells": [
  {
   "cell_type": "markdown",
   "id": "26fb8a8a",
   "metadata": {},
   "source": [
    "### Q - 1\n",
    "Given an array of integers nums and an integer target, return indices of the two numbers such that they add up to target.\n",
    "\n",
    "You may assume that each input would have exactly one solution, and you may not use the same element twice.\n",
    "\n",
    "You can return the answer in any order.\n",
    "\n",
    "**Example:**\n",
    "Input: nums = [2,7,11,15], target = 9\n",
    "Output0 [0,1]\n",
    "\n",
    "**Explanation:** Because nums[0] + nums[1] == 9, we return [0, 1][\n",
    "\n",
    "</aside>"
   ]
  },
  {
   "cell_type": "code",
   "execution_count": 10,
   "id": "11c1c92c",
   "metadata": {},
   "outputs": [],
   "source": [
    "# time compelexity : n^2\n",
    "\n",
    "def find_target(nums,target):\n",
    "    \n",
    "    result = []\n",
    "    \n",
    "    if type(nums) == list and type(target) == int :\n",
    "    \n",
    "        for i in range(len(nums)-1):\n",
    "\n",
    "            for j in range(i+1,len(nums)):\n",
    "\n",
    "                if nums[i] + nums[j] == target:\n",
    "\n",
    "                    result.extend([i,j])\n",
    "\n",
    "                    return result\n",
    "                \n",
    "        return -1"
   ]
  },
  {
   "cell_type": "code",
   "execution_count": 6,
   "id": "fe8adb9e",
   "metadata": {},
   "outputs": [
    {
     "data": {
      "text/plain": [
       "[0, 1]"
      ]
     },
     "execution_count": 6,
     "metadata": {},
     "output_type": "execute_result"
    }
   ],
   "source": [
    "nums = [2,7,11,15]\n",
    "target = 9\n",
    "find_target(nums,target)"
   ]
  },
  {
   "cell_type": "code",
   "execution_count": 7,
   "id": "5fcb68c2",
   "metadata": {},
   "outputs": [
    {
     "data": {
      "text/plain": [
       "[0, 3]"
      ]
     },
     "execution_count": 7,
     "metadata": {},
     "output_type": "execute_result"
    }
   ],
   "source": [
    "find_target([23,9,1,0,6],23)"
   ]
  },
  {
   "cell_type": "code",
   "execution_count": 8,
   "id": "45351b51",
   "metadata": {},
   "outputs": [
    {
     "data": {
      "text/plain": [
       "[4, 5]"
      ]
     },
     "execution_count": 8,
     "metadata": {},
     "output_type": "execute_result"
    }
   ],
   "source": [
    "find_target([12,4,7,12,10,16],26)"
   ]
  },
  {
   "cell_type": "code",
   "execution_count": 11,
   "id": "074fdaf9",
   "metadata": {},
   "outputs": [
    {
     "data": {
      "text/plain": [
       "[0, 4]"
      ]
     },
     "execution_count": 11,
     "metadata": {},
     "output_type": "execute_result"
    }
   ],
   "source": [
    "find_target([1,2,3,4,5],6)"
   ]
  },
  {
   "cell_type": "markdown",
   "id": "ecfed7a9",
   "metadata": {},
   "source": [
    "### Q - 2\n",
    "Given an integer array nums and an integer val, remove all occurrences of val in nums in-place. The order of the elements may be changed. Then return the number of elements in nums which are not equal to val.\n",
    "\n",
    "Consider the number of elements in nums which are not equal to val be k, to get accepted, you need to do the following things:\n",
    "\n",
    "- Change the array nums such that the first k elements of nums contain the elements which are not equal to val. The remaining elements of nums are not important as well as the size of nums.\n",
    "- Return k.\n",
    "\n",
    "**Example :**\n",
    "Input: nums = [3,2,2,3], val = 3\n",
    "Output: 2, nums = [2,2,_*,_*]\n",
    "\n",
    "**Explanation:** Your function should return k = 2, with the first two elements of nums being 2. It does not matter what you leave beyond the returned k (hence they are underscores)[\n",
    "\n",
    "</aside>"
   ]
  },
  {
   "cell_type": "code",
   "execution_count": 17,
   "id": "70ea897a",
   "metadata": {},
   "outputs": [],
   "source": [
    "def occurence(num,val):\n",
    "    \n",
    "    a = 0\n",
    "    count = 0\n",
    "    \n",
    "    while a<len(num):\n",
    "        \n",
    "        if num[a] == val:\n",
    "            num.pop(a)\n",
    "            num.append('_')\n",
    "            count+=1\n",
    "            \n",
    "        a += 1\n",
    "    \n",
    "    return count, num\n",
    "            "
   ]
  },
  {
   "cell_type": "code",
   "execution_count": 18,
   "id": "c2026410",
   "metadata": {},
   "outputs": [
    {
     "data": {
      "text/plain": [
       "(2, [2, 2, '_', '_'])"
      ]
     },
     "execution_count": 18,
     "metadata": {},
     "output_type": "execute_result"
    }
   ],
   "source": [
    "occurence([3,2,2,3],3)"
   ]
  },
  {
   "cell_type": "code",
   "execution_count": 19,
   "id": "14a28397",
   "metadata": {},
   "outputs": [
    {
     "data": {
      "text/plain": [
       "(3, [23, 56, 34, 2, 89, 12, '_', '_', '_'])"
      ]
     },
     "execution_count": 19,
     "metadata": {},
     "output_type": "execute_result"
    }
   ],
   "source": [
    "occurence([23,4,56,34,2,4,89,12,4],4)"
   ]
  },
  {
   "cell_type": "markdown",
   "id": "eabd207e",
   "metadata": {},
   "source": [
    "### Q - 3\n",
    "\n",
    "Given a sorted array of distinct integers and a target value, return the index if the target is found. If not, return the index where it would be if it were inserted in order.\n",
    "\n",
    "You must write an algorithm with O(log n) runtime complexity.\n",
    "\n",
    "**Example 1:**\n",
    "Input: nums = [1,3,5,6], target = 5\n",
    "\n",
    "Output: 2\n",
    "\n",
    "</aside>"
   ]
  },
  {
   "cell_type": "code",
   "execution_count": 162,
   "id": "695488a0",
   "metadata": {},
   "outputs": [],
   "source": [
    "def search(nums,target):\n",
    "    \n",
    "    left = 0\n",
    "    \n",
    "    right = len(nums)-1\n",
    "    \n",
    "    while left<=right:\n",
    "        \n",
    "        mid = left + (right - left)//2\n",
    "        \n",
    "        if nums[mid] == target:\n",
    "            \n",
    "            return mid\n",
    "        \n",
    "        elif nums[mid]>target:\n",
    "            \n",
    "            right = mid - 1\n",
    "            \n",
    "        else :\n",
    "            \n",
    "            left = mid + 1\n",
    "            \n",
    "    return right + 1"
   ]
  },
  {
   "cell_type": "code",
   "execution_count": 164,
   "id": "e37b3b00",
   "metadata": {},
   "outputs": [
    {
     "data": {
      "text/plain": [
       "4"
      ]
     },
     "execution_count": 164,
     "metadata": {},
     "output_type": "execute_result"
    }
   ],
   "source": [
    "search([1,3,5,6,9,10,16,19],8)"
   ]
  },
  {
   "cell_type": "code",
   "execution_count": 166,
   "id": "8c77921f",
   "metadata": {},
   "outputs": [
    {
     "data": {
      "text/plain": [
       "5"
      ]
     },
     "execution_count": 166,
     "metadata": {},
     "output_type": "execute_result"
    }
   ],
   "source": [
    "search([12,23,45,56,67,678],80)"
   ]
  },
  {
   "cell_type": "code",
   "execution_count": 167,
   "id": "6db20f09",
   "metadata": {},
   "outputs": [
    {
     "data": {
      "text/plain": [
       "6"
      ]
     },
     "execution_count": 167,
     "metadata": {},
     "output_type": "execute_result"
    }
   ],
   "source": [
    "search([12,23,45,56,67,678],6780)"
   ]
  },
  {
   "cell_type": "markdown",
   "id": "208528e4",
   "metadata": {},
   "source": [
    "### Q - 4\n",
    "\n",
    "You are given a large integer represented as an integer array digits, where each digits[i] is the ith digit of the integer. The digits are ordered from most significant to least significant in left-to-right order. The large integer does not contain any leading 0's.\n",
    "\n",
    "Increment the large integer by one and return the resulting array of digits.\n",
    "\n",
    "**Example 1:**\n",
    "Input: digits = [1,2,3]\n",
    "Output: [1,2,4]\n",
    "\n",
    "**Explanation:** The array represents the integer 123.\n",
    "\n",
    "Incrementing by one gives 123 + 1 = 124.\n",
    "Thus, the result should be [1,2,4].\n",
    "\n",
    "</aside>"
   ]
  },
  {
   "cell_type": "code",
   "execution_count": 20,
   "id": "bd955ed5",
   "metadata": {},
   "outputs": [],
   "source": [
    "def digit(digits):\n",
    "    \n",
    "    array = []\n",
    "    \n",
    "    for i in str(digits):\n",
    "        array.append(int(i))\n",
    "        \n",
    "    array[-1] = array[-1] + 1\n",
    "    \n",
    "    return array"
   ]
  },
  {
   "cell_type": "code",
   "execution_count": 21,
   "id": "2b3ee4a0",
   "metadata": {},
   "outputs": [
    {
     "data": {
      "text/plain": [
       "[1, 2, 3, 5, 3, 5]"
      ]
     },
     "execution_count": 21,
     "metadata": {},
     "output_type": "execute_result"
    }
   ],
   "source": [
    "digit(123534)"
   ]
  },
  {
   "cell_type": "code",
   "execution_count": 22,
   "id": "5eba3fd9",
   "metadata": {},
   "outputs": [
    {
     "data": {
      "text/plain": [
       "[2, 3, 5, 4, 2, 2]"
      ]
     },
     "execution_count": 22,
     "metadata": {},
     "output_type": "execute_result"
    }
   ],
   "source": [
    "digit(235421)"
   ]
  },
  {
   "cell_type": "markdown",
   "id": "91ae4d54",
   "metadata": {},
   "source": [
    "### Q - 5\n",
    "\n",
    "You are given two integer arrays nums1 and nums2, sorted in non-decreasing order, and two integers m and n, representing the number of elements in nums1 and nums2 respectively.\n",
    "\n",
    "Merge nums1 and nums2 into a single array sorted in non-decreasing order.\n",
    "\n",
    "The final sorted array should not be returned by the function, but instead be stored inside the array nums1. To accommodate this, nums1 has a length of m + n, where the first m elements denote the elements that should be merged, and the last n elements are set to 0 and should be ignored. nums2 has a length of n.\n",
    "\n",
    "**Example 1:**\n",
    "Input: nums1 = [1,2,3,0,0,0], m = 3, nums2 = [2,5,6], n = 3\n",
    "Output: [1,2,2,3,5,6]\n",
    "\n",
    "**Explanation:** The arrays we are merging are [1,2,3] and [2,5,6].\n",
    "The result of the merge is [1,2,2,3,5,6] with the underlined elements coming from nums1.\n",
    "\n",
    "</aside>"
   ]
  },
  {
   "cell_type": "code",
   "execution_count": 37,
   "id": "ccac1430",
   "metadata": {},
   "outputs": [],
   "source": [
    "def list_merger(nums1,m,nums2,n):\n",
    "    \n",
    "    if (type(nums1) == list and type(nums2) == list) and (type(m)==int and type(n)==int):\n",
    "        \n",
    "        nums1 += [0]*n\n",
    "        print(nums1)\n",
    "\n",
    "        nums1 = nums1[:m] + nums2\n",
    "        m += n\n",
    "        \n",
    "        nums1.sort()\n",
    "\n",
    "        return nums1\n",
    "    \n",
    "    return -1"
   ]
  },
  {
   "cell_type": "code",
   "execution_count": 38,
   "id": "e6a82d3b",
   "metadata": {},
   "outputs": [
    {
     "name": "stdout",
     "output_type": "stream",
     "text": [
      "[1, 2, 3, 0, 0, 0]\n"
     ]
    },
    {
     "data": {
      "text/plain": [
       "[1, 2, 2, 3, 5, 6]"
      ]
     },
     "execution_count": 38,
     "metadata": {},
     "output_type": "execute_result"
    }
   ],
   "source": [
    "list_merger([1,2,3],3,[2,5,6],3)"
   ]
  },
  {
   "cell_type": "code",
   "execution_count": 39,
   "id": "c7e5fbbf",
   "metadata": {},
   "outputs": [
    {
     "name": "stdout",
     "output_type": "stream",
     "text": [
      "[4, 2, 7, 3, 0, 0]\n"
     ]
    },
    {
     "data": {
      "text/plain": [
       "[2, 3, 4, 6, 7, 9]"
      ]
     },
     "execution_count": 39,
     "metadata": {},
     "output_type": "execute_result"
    }
   ],
   "source": [
    "list_merger([4,2,7,3],4,[6,9],2)"
   ]
  },
  {
   "cell_type": "markdown",
   "id": "534b6074",
   "metadata": {},
   "source": [
    "### Q - 6\n",
    "Given an integer array nums, return true if any value appears at least twice in the array, and return false if every element is distinct.\n",
    "\n",
    "**Example 1:**\n",
    "Input: nums = [1,2,3,1]\n",
    "\n",
    "Output: true\n",
    "\n",
    "</aside>"
   ]
  },
  {
   "cell_type": "code",
   "execution_count": 42,
   "id": "be1b71ee",
   "metadata": {},
   "outputs": [],
   "source": [
    "def element_checker(lst):\n",
    "    \n",
    "    for i in range(0,len(lst)-1):\n",
    "        \n",
    "        for j in range(len(lst)):\n",
    "            \n",
    "            if lst[i] == lst[j] :\n",
    "            \n",
    "                return True\n",
    "        \n",
    "    return False"
   ]
  },
  {
   "cell_type": "code",
   "execution_count": 43,
   "id": "d63ede86",
   "metadata": {},
   "outputs": [
    {
     "data": {
      "text/plain": [
       "True"
      ]
     },
     "execution_count": 43,
     "metadata": {},
     "output_type": "execute_result"
    }
   ],
   "source": [
    "element_checker([1,2,3,1])"
   ]
  },
  {
   "cell_type": "code",
   "execution_count": 44,
   "id": "58508093",
   "metadata": {},
   "outputs": [],
   "source": [
    "# different approach :\n",
    "\n",
    "def element_checker(lst):\n",
    "    \n",
    "    if len(set(lst)) == len(lst):\n",
    "        \n",
    "        return False\n",
    "    \n",
    "    return True"
   ]
  },
  {
   "cell_type": "code",
   "execution_count": 45,
   "id": "bbed08a8",
   "metadata": {},
   "outputs": [
    {
     "data": {
      "text/plain": [
       "False"
      ]
     },
     "execution_count": 45,
     "metadata": {},
     "output_type": "execute_result"
    }
   ],
   "source": [
    "element_checker([1,2,3,4,5,6])"
   ]
  },
  {
   "cell_type": "markdown",
   "id": "11216f6d",
   "metadata": {},
   "source": [
    "### Q - 7\n",
    "Given an integer array nums, move all 0's to the end of it while maintaining the relative order of the nonzero elements.\n",
    "\n",
    "Note that you must do this in-place without making a copy of the array.\n",
    "\n",
    "**Example 1:**\n",
    "Input: nums = [0,1,0,3,12]\n",
    "Output: [1,3,12,0,0]\n",
    "\n",
    "</aside>"
   ]
  },
  {
   "cell_type": "code",
   "execution_count": 16,
   "id": "0f73b2c3",
   "metadata": {},
   "outputs": [],
   "source": [
    "# using recursive approach to solve the leading zero problem :\n",
    "\n",
    "def zero_handling(lst):\n",
    "    \n",
    "    for i in range(len(lst)):\n",
    "        \n",
    "        if lst[i] == 0:\n",
    "            \n",
    "            lst.append(0)\n",
    "            lst.pop(i)\n",
    "            \n",
    "    if lst[0] == 0:\n",
    "        zero_handling(lst)\n",
    "            \n",
    "    return lst"
   ]
  },
  {
   "cell_type": "code",
   "execution_count": 17,
   "id": "a5623c1e",
   "metadata": {},
   "outputs": [
    {
     "data": {
      "text/plain": [
       "[1, 2, 3, 12, 0, 0]"
      ]
     },
     "execution_count": 17,
     "metadata": {},
     "output_type": "execute_result"
    }
   ],
   "source": [
    "zero_handling([0,1,2,3,0,12])"
   ]
  },
  {
   "cell_type": "code",
   "execution_count": 18,
   "id": "04c6ed9e",
   "metadata": {},
   "outputs": [
    {
     "data": {
      "text/plain": [
       "[12, 34, 2, 1, 0, 0, 0, 0]"
      ]
     },
     "execution_count": 18,
     "metadata": {},
     "output_type": "execute_result"
    }
   ],
   "source": [
    "zero_handling([0,0,0,0,12,34,2,1])"
   ]
  },
  {
   "cell_type": "code",
   "execution_count": 20,
   "id": "fabfa990",
   "metadata": {},
   "outputs": [
    {
     "data": {
      "text/plain": [
       "[4, 5, 6, 4, 3, 6, 3, 0, 0, 0, 0, 0, 0, 0, 0, 0, 0]"
      ]
     },
     "execution_count": 20,
     "metadata": {},
     "output_type": "execute_result"
    }
   ],
   "source": [
    "zero_handling([0,0,0,0,0,0,0,4,5,6,4,3,6,3,0,0,0])"
   ]
  },
  {
   "cell_type": "markdown",
   "id": "5361194e",
   "metadata": {},
   "source": [
    "### Q - 8\n",
    "You have a set of integers s, which originally contains all the numbers from 1 to n. Unfortunately, due to some error, one of the numbers in s got duplicated to another number in the set, which results in repetition of one number and loss of another number.\n",
    "\n",
    "You are given an integer array nums representing the data status of this set after the error.\n",
    "\n",
    "Find the number that occurs twice and the number that is missing and return them in the form of an array.\n",
    "\n",
    "**Example 1:**\n",
    "Input: nums = [1,2,2,4]\n",
    "Output: [2,3]\n",
    "\n",
    "</aside>"
   ]
  },
  {
   "cell_type": "code",
   "execution_count": 107,
   "id": "95fec775",
   "metadata": {},
   "outputs": [],
   "source": [
    "def duplicate_check(lst):\n",
    "    \n",
    "    list_ = []\n",
    "    \n",
    "    for i in range(len(lst)-1):\n",
    "        \n",
    "        if lst[i] == lst[i+1]:\n",
    "            \n",
    "            list_ += [lst[i]]\n",
    "            break\n",
    "            \n",
    "    list_ += [list_[0]+1]\n",
    "    \n",
    "    return list_"
   ]
  },
  {
   "cell_type": "code",
   "execution_count": 108,
   "id": "3433bdb8",
   "metadata": {},
   "outputs": [
    {
     "data": {
      "text/plain": [
       "[2, 3]"
      ]
     },
     "execution_count": 108,
     "metadata": {},
     "output_type": "execute_result"
    }
   ],
   "source": [
    "duplicate_check([1,2,2,4])"
   ]
  },
  {
   "cell_type": "code",
   "execution_count": 110,
   "id": "70092fcb",
   "metadata": {},
   "outputs": [
    {
     "data": {
      "text/plain": [
       "[6, 7]"
      ]
     },
     "execution_count": 110,
     "metadata": {},
     "output_type": "execute_result"
    }
   ],
   "source": [
    "duplicate_check([2,3,4,5,6,6,8])"
   ]
  }
 ],
 "metadata": {
  "kernelspec": {
   "display_name": "Python 3",
   "language": "python",
   "name": "python3"
  },
  "language_info": {
   "codemirror_mode": {
    "name": "ipython",
    "version": 3
   },
   "file_extension": ".py",
   "mimetype": "text/x-python",
   "name": "python",
   "nbconvert_exporter": "python",
   "pygments_lexer": "ipython3",
   "version": "3.8.8"
  },
  "varInspector": {
   "cols": {
    "lenName": 16,
    "lenType": 16,
    "lenVar": 40
   },
   "kernels_config": {
    "python": {
     "delete_cmd_postfix": "",
     "delete_cmd_prefix": "del ",
     "library": "var_list.py",
     "varRefreshCmd": "print(var_dic_list())"
    },
    "r": {
     "delete_cmd_postfix": ") ",
     "delete_cmd_prefix": "rm(",
     "library": "var_list.r",
     "varRefreshCmd": "cat(var_dic_list()) "
    }
   },
   "types_to_exclude": [
    "module",
    "function",
    "builtin_function_or_method",
    "instance",
    "_Feature"
   ],
   "window_display": false
  }
 },
 "nbformat": 4,
 "nbformat_minor": 5
}
